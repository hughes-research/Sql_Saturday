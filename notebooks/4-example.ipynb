{
 "cells": [
  {
   "cell_type": "markdown",
   "id": "a60f0cb2",
   "metadata": {},
   "source": [
    "# Document indexes \n",
    "\n",
    "LangChain uses Chroma as the vectorstore to index and search embeddings.\n",
    "\n",
    "Note: you have to install the tools required to get things working.\n",
    "```terminal\n",
    "pip install chromadb\n",
    "```"
   ]
  },
  {
   "cell_type": "code",
   "execution_count": 1,
   "id": "464e0f6a",
   "metadata": {},
   "outputs": [],
   "source": [
    "from getpass import getpass"
   ]
  },
  {
   "cell_type": "code",
   "execution_count": 2,
   "id": "b95a6211",
   "metadata": {},
   "outputs": [
    {
     "data": {
      "text/plain": [
       "True"
      ]
     },
     "execution_count": 2,
     "metadata": {},
     "output_type": "execute_result"
    }
   ],
   "source": [
    "from langchain.embeddings.openai import OpenAIEmbeddings\n",
    "from langchain.text_splitter import CharacterTextSplitter\n",
    "from langchain.vectorstores import Chroma\n",
    "from langchain.document_loaders import TextLoader\n",
    "from dotenv import load_dotenv\n",
    "load_dotenv('.env') # the .env not required you can also leave it empty it will default to .env"
   ]
  },
  {
   "cell_type": "code",
   "execution_count": 3,
   "id": "04a2944e",
   "metadata": {},
   "outputs": [],
   "source": [
    "from langchain.document_loaders import TextLoader\n",
    "loader = TextLoader('data/stateofunion.txt')\n",
    "documents = loader.load()\n",
    "text_splitter = CharacterTextSplitter(chunk_size=800, chunk_overlap=10)\n",
    "docs = text_splitter.split_documents(documents)\n",
    "\n",
    "embeddings = OpenAIEmbeddings()"
   ]
  },
  {
   "cell_type": "code",
   "execution_count": 4,
   "id": "e7e3f550",
   "metadata": {},
   "outputs": [
    {
     "name": "stderr",
     "output_type": "stream",
     "text": [
      "Using embedded DuckDB without persistence: data will be transient\n"
     ]
    }
   ],
   "source": [
    "db = Chroma.from_documents(docs, embeddings)\n",
    "\n",
    "query = \"Inflations ?\"\n",
    "docs = db.similarity_search(query)"
   ]
  },
  {
   "cell_type": "code",
   "execution_count": 5,
   "id": "d0035c14",
   "metadata": {},
   "outputs": [
    {
     "name": "stdout",
     "output_type": "stream",
     "text": [
      "Now, thanks to all we’ve done, we’re exporting American products and creating American jobs.\n",
      "\n",
      "Inflation has been a global problem because of the pandemic that disrupted supply chains and Putin’s war that disrupted energy and food supplies.\n",
      "\n",
      "But we’re better positioned than any country on Earth.\n",
      "\n",
      "We have more to do, but here at home, inflation is coming down.\n",
      "\n",
      "Here at home, gas prices are down $1.50 a gallon since their peak.\n",
      "\n",
      "Food inflation is coming down.\n",
      "\n",
      "Inflation has fallen every month for the last six months while take home pay has gone up.\n",
      "\n",
      "Additionally, over the last two years, a record 10 million Americans applied to start a new small business.\n",
      "\n",
      "Every time somebody starts a small business, it’s an act of hope.\n"
     ]
    }
   ],
   "source": [
    "print(docs[0].page_content)"
   ]
  },
  {
   "cell_type": "code",
   "execution_count": 8,
   "id": "ed9d69e7",
   "metadata": {},
   "outputs": [],
   "source": [
    "docs = db.similarity_search_with_score(\"war\")"
   ]
  },
  {
   "cell_type": "code",
   "execution_count": 9,
   "id": "8620251d",
   "metadata": {},
   "outputs": [
    {
     "data": {
      "text/plain": [
       "(Document(page_content='Investing in our alliances and working with our allies to protect our advanced technologies so they’re not used against us.\\n\\nModernizing our military to safeguard stability and deter aggression.\\n\\nToday, we’re in the strongest position in decades to compete with China or anyone else in the world.\\n\\nI am committed to work with China where it can advance American interests and benefit the world.\\n\\nBut make no mistake: as we made clear last week, if China’s threatens our sovereignty, we will act to protect our country. And we did.\\n\\nAnd let’s be clear: winning the competition with China should unite all of us. We face serious challenges across the world.\\n\\nBut in the past two years, democracies have become stronger, not weaker.\\n\\nAutocracies have grown weaker, not stronger.', metadata={'source': 'data/stateofunion.txt'}),\n",
       " 0.4370202422142029)"
      ]
     },
     "execution_count": 9,
     "metadata": {},
     "output_type": "execute_result"
    }
   ],
   "source": [
    "docs[0]"
   ]
  },
  {
   "cell_type": "code",
   "execution_count": null,
   "id": "3a86ec37",
   "metadata": {},
   "outputs": [],
   "source": []
  }
 ],
 "metadata": {
  "kernelspec": {
   "display_name": "Python 3 (ipykernel)",
   "language": "python",
   "name": "python3"
  },
  "language_info": {
   "codemirror_mode": {
    "name": "ipython",
    "version": 3
   },
   "file_extension": ".py",
   "mimetype": "text/x-python",
   "name": "python",
   "nbconvert_exporter": "python",
   "pygments_lexer": "ipython3",
   "version": "3.9.13"
  }
 },
 "nbformat": 4,
 "nbformat_minor": 5
}
