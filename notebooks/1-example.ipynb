{
 "cells": [
  {
   "cell_type": "markdown",
   "id": "71306cac",
   "metadata": {},
   "source": [
    "## Quick start guide \n",
    "\n",
    "Before you can start you have to install all the tools your going to need:\n",
    "* Use pip to install all the modules you need\n",
    "* Uncomment the line below and it will install all the modules required.\n",
    "\n",
    "Note: Generally like to install modules by using required.txt file \n",
    "in this case you can also do it via pip at the notebook level as well if you \n",
    "do not have access to the cli. "
   ]
  },
  {
   "cell_type": "markdown",
   "id": "e1e49042",
   "metadata": {},
   "source": [
    "#%pip install \"langchain[all]\" requests openai faiss-cpu fastapi\n",
    "#%pip install google-generativeai  \n",
    "#%pip install duckduckgo-search wikipedia wolframalpha chromadb tiktoken"
   ]
  },
  {
   "cell_type": "markdown",
   "id": "5d274270",
   "metadata": {},
   "source": [
    "### Make sure you setup all the imports for your modules \n",
    "Not all the modules are required to work.\n",
    "\n",
    "dotenv is very good way to set your config.\n",
    "copy the example.env and rename it to .env"
   ]
  },
  {
   "cell_type": "code",
   "execution_count": 6,
   "id": "3ea99bd9",
   "metadata": {},
   "outputs": [
    {
     "data": {
      "text/plain": [
       "True"
      ]
     },
     "execution_count": 6,
     "metadata": {},
     "output_type": "execute_result"
    }
   ],
   "source": [
    "import langchain\n",
    "from langchain.agents import load_tools, get_all_tool_names\n",
    "from langchain.agents import initialize_agent\n",
    "from langchain.llms import OpenAI\n",
    "from dotenv import load_dotenv\n",
    "load_dotenv('.env') # the .env not required you can also leave it empty it will default to .env"
   ]
  },
  {
   "cell_type": "markdown",
   "id": "e1cd2ea3",
   "metadata": {},
   "source": [
    "## Adding this to show everyone what tools can be accessed by langchan agent."
   ]
  },
  {
   "cell_type": "code",
   "execution_count": 7,
   "id": "b3ffa7bf",
   "metadata": {},
   "outputs": [
    {
     "name": "stdout",
     "output_type": "stream",
     "text": [
      "['python_repl', 'requests', 'requests_get', 'requests_post', 'requests_patch', 'requests_put', 'requests_delete', 'terminal', 'wolfram-alpha', 'google-search', 'google-search-results-json', 'searx-search-results-json', 'bing-search', 'ddg-search', 'google-serper', 'google-serper-results-json', 'serpapi', 'searx-search', 'wikipedia', 'arxiv', 'human', 'awslambda', 'sceneXplain', 'news-api', 'tmdb-api', 'podcast-api', 'pal-math', 'pal-colored-objects', 'llm-math', 'open-meteo-api']\n"
     ]
    }
   ],
   "source": [
    "toollist = get_all_tool_names()\n",
    "print(toollist)"
   ]
  },
  {
   "cell_type": "code",
   "execution_count": 8,
   "id": "e4ec563b",
   "metadata": {},
   "outputs": [],
   "source": [
    "llm = OpenAI()"
   ]
  },
  {
   "cell_type": "markdown",
   "id": "a2c2dd5d",
   "metadata": {},
   "source": [
    "## Testing the model connection.\n",
    "\n",
    "All you have to do is setup the llm var and send it text to answer"
   ]
  },
  {
   "cell_type": "code",
   "execution_count": 9,
   "id": "f1f1bb8b",
   "metadata": {},
   "outputs": [
    {
     "name": "stdout",
     "output_type": "stream",
     "text": [
      "\n",
      "\n",
      "A woodchuck can chuck between 35 and 70 pounds of wood in a day.\n"
     ]
    }
   ],
   "source": [
    "text = \"How much wood can a woodchuck chuck if a woodchuck could chuck wood?\"\n",
    "print(llm(text))"
   ]
  },
  {
   "cell_type": "markdown",
   "id": "22b7eb5b",
   "metadata": {},
   "source": [
    "## Next step\n",
    "\n",
    "Let's do something little more complex now."
   ]
  },
  {
   "cell_type": "code",
   "execution_count": 10,
   "id": "72dc9155",
   "metadata": {},
   "outputs": [
    {
     "name": "stdout",
     "output_type": "stream",
     "text": [
      "\n",
      "\n",
      "\u001b[1m> Entering new AgentExecutor chain...\u001b[0m\n",
      "\u001b[32;1m\u001b[1;3m This question is likely about current events so I should use a search engine.\n",
      "Action: Google Search\n",
      "Action Input: \"price of tea in china today\"\u001b[0m\n",
      "Observation: \u001b[38;5;200m\u001b[1;3mApr 20, 2023 ... In 2022, the average domestic price for one kilogram of green tea made in China was 160.99 yuan. is an expression denoting an irrelevance or non sequitur in the current discussion. A common form, what does that have to do with the price of tea in China? China Black Tea 2023 Retail Prices ... The retail price range in Yuan Renminbi for black tea is between CNY 28.05 and CNY 105.19 per kilogram or between CNY 12.72 ... Feb 9, 2017 ... Founded in 1920, the NBER is a private, non-profit, non-partisan organization dedicated to conducting economic research and to disseminating ... EnglishEdit. EtymologyEdit. The price of tea in China was an important topic in England during and around the 19th century. It was often mentioned in the ... Aug 1, 2008 ... Abstract. Economists have long argued that the sex imbalance in developing countries is caused by underlying economic conditions. China Retail Price Index: BT: Tea and Beverage data was reported at 101.100 Prev Year=100 in Dec 2021. This records an increase from the previous number of ... Feb 6, 2020 ... Listen to The Price Of Tea In China, a playlist curated by Alan The Chemist on desktop and mobile. However, the standard range for a 500-gram tea is from CYN 70 ($10) to CYN 7059 ($1000). The most expensive teas in China can even reach up to $2.8 million! Typically, you could get a standard 500-gram pack of black tea for $20 while you might have to spend an exorbitant $40 plus for the same amount of oolong tea.\u001b[0m\n",
      "Thought:\u001b[32;1m\u001b[1;3m I now know the final answer\n",
      "Final Answer:The average domestic price for one kilogram of green tea made in China is 160.99 yuan, while the standard range for a 500-gram tea is from CYN 70 ($10) to CYN 7059 ($1000). The most expensive teas in China can even reach up to $2.8 million. Typically, you could get a standard 500-gram pack of black tea for $20 while you might have to spend an exorbitant $40 plus for the same amount of oolong tea.\u001b[0m\n",
      "\n",
      "\u001b[1m> Finished chain.\u001b[0m\n"
     ]
    },
    {
     "data": {
      "text/plain": [
       "'The average domestic price for one kilogram of green tea made in China is 160.99 yuan, while the standard range for a 500-gram tea is from CYN 70 ($10) to CYN 7059 ($1000). The most expensive teas in China can even reach up to $2.8 million. Typically, you could get a standard 500-gram pack of black tea for $20 while you might have to spend an exorbitant $40 plus for the same amount of oolong tea.'"
      ]
     },
     "execution_count": 10,
     "metadata": {},
     "output_type": "execute_result"
    }
   ],
   "source": [
    "tools = load_tools([#\"serpapi\",             # serpapi multi search integration (requires api key) $$$\n",
    "                    \"ddg-search\",           # duckduckgo search integration (free)\n",
    "                    \"bing-search\",          # bing search integration (requires api key) $\n",
    "                    \"google-search\",        # google search integration (requires api key) $\n",
    "                    \"python_repl\",          # Python execution  (free)\n",
    "                    \"wikipedia\",            # wikipedia integration (free)\n",
    "                    \"llm-math\",             # simple math problems (free)\n",
    "                    \"pal-math\",             # math word problems (free)\n",
    "                    \"pal-colored-objects\",  # Word problems with colored objects (free)\n",
    "                    \"wolfram-alpha\",        # wolfram alpha integration (requires api key) $\n",
    "                    #\"terminal\",            # use this feature with caution (☠️)\n",
    "                    \"human\"], llm=llm)\n",
    "\n",
    "agent = initialize_agent(tools, llm, agent=\"zero-shot-react-description\", verbose=True)\n",
    "    \n",
    "agent.run(\"What is the price of tea in china today?\")"
   ]
  },
  {
   "cell_type": "code",
   "execution_count": null,
   "id": "e3075184",
   "metadata": {},
   "outputs": [],
   "source": []
  }
 ],
 "metadata": {
  "kernelspec": {
   "display_name": "Python 3 (ipykernel)",
   "language": "python",
   "name": "python3"
  },
  "language_info": {
   "codemirror_mode": {
    "name": "ipython",
    "version": 3
   },
   "file_extension": ".py",
   "mimetype": "text/x-python",
   "name": "python",
   "nbconvert_exporter": "python",
   "pygments_lexer": "ipython3",
   "version": "3.9.13"
  }
 },
 "nbformat": 4,
 "nbformat_minor": 5
}
