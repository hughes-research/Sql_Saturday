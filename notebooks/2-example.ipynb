{
 "cells": [
  {
   "cell_type": "markdown",
   "id": "d720be0a",
   "metadata": {},
   "source": [
    "# Prompt templates"
   ]
  },
  {
   "cell_type": "markdown",
   "id": "a44f9d27",
   "metadata": {},
   "source": [
    "## Standard setup\n",
    "\n",
    "Note: not all imports are required "
   ]
  },
  {
   "cell_type": "code",
   "execution_count": 1,
   "id": "db6e0b00",
   "metadata": {},
   "outputs": [],
   "source": [
    "import langchain\n",
    "from langchain import PromptTemplate\n",
    "from langchain.prompts import load_prompt"
   ]
  },
  {
   "cell_type": "markdown",
   "id": "bcc06ea9",
   "metadata": {},
   "source": [
    "## Basic template\n",
    "* Why would you want to use templates?\n",
    " * Gardrails to keep users from crafting bad prompts\n",
    " * Way to control inputs and validate data\n",
    " * Provide consistant prompting \n",
    " * Security, Security, Security"
   ]
  },
  {
   "cell_type": "code",
   "execution_count": 2,
   "id": "7325975f",
   "metadata": {},
   "outputs": [
    {
     "data": {
      "text/plain": [
       "'\\nI want you to act as a naming consultant for new companies.\\nWhat is a good name for a company that makes electric cars?\\n'"
      ]
     },
     "execution_count": 2,
     "metadata": {},
     "output_type": "execute_result"
    }
   ],
   "source": [
    "template = \"\"\"\n",
    "I want you to act as a naming consultant for new companies.\n",
    "What is a good name for a company that makes {product}?\n",
    "\"\"\"\n",
    "\n",
    "prompt = PromptTemplate(\n",
    "    input_variables=[\"product\"],\n",
    "    template=template,\n",
    ")\n",
    "prompt.format(product=\"electric cars\")"
   ]
  },
  {
   "cell_type": "markdown",
   "id": "35412e82",
   "metadata": {},
   "source": [
    "## More complex prompt with two varables\n",
    "Two input vars"
   ]
  },
  {
   "cell_type": "code",
   "execution_count": 3,
   "id": "82283d63",
   "metadata": {},
   "outputs": [
    {
     "data": {
      "text/plain": [
       "'Tell me a funny joke about chickens.'"
      ]
     },
     "execution_count": 3,
     "metadata": {},
     "output_type": "execute_result"
    }
   ],
   "source": [
    "template = \"Tell me a {adjective} joke about {content}.\"\n",
    "\n",
    "prompt_template = PromptTemplate.from_template(template)\n",
    "prompt_template.input_variables\n",
    "prompt_template.format(adjective=\"funny\", content=\"chickens\")"
   ]
  },
  {
   "cell_type": "markdown",
   "id": "fb360284",
   "metadata": {},
   "source": [
    "## How to save a prompt"
   ]
  },
  {
   "cell_type": "code",
   "execution_count": 4,
   "id": "471e6b06",
   "metadata": {},
   "outputs": [],
   "source": [
    "prompt_template.save(\"data/saved_prompt.json\")"
   ]
  },
  {
   "cell_type": "markdown",
   "id": "bd2d1f2a",
   "metadata": {},
   "source": [
    "## Loading a prompt"
   ]
  },
  {
   "cell_type": "code",
   "execution_count": 5,
   "id": "a60f0419",
   "metadata": {},
   "outputs": [],
   "source": [
    "loaded_prompt = load_prompt(\"data/saved_prompt.json\")\n",
    "\n",
    "assert prompt_template == loaded_prompt"
   ]
  },
  {
   "cell_type": "markdown",
   "id": "e9f54714",
   "metadata": {},
   "source": [
    "## Loaded prompt\n",
    "* Inject data back into loaded prompt\n",
    "* Show raw prompt "
   ]
  },
  {
   "cell_type": "code",
   "execution_count": 6,
   "id": "b145c826",
   "metadata": {},
   "outputs": [
    {
     "data": {
      "text/plain": [
       "'Tell me a dad joke about dogs.'"
      ]
     },
     "execution_count": 6,
     "metadata": {},
     "output_type": "execute_result"
    }
   ],
   "source": [
    "prompt_template.format(adjective=\"dad\", content=\"dogs\")"
   ]
  }
 ],
 "metadata": {
  "kernelspec": {
   "display_name": "Python 3 (ipykernel)",
   "language": "python",
   "name": "python3"
  },
  "language_info": {
   "codemirror_mode": {
    "name": "ipython",
    "version": 3
   },
   "file_extension": ".py",
   "mimetype": "text/x-python",
   "name": "python",
   "nbconvert_exporter": "python",
   "pygments_lexer": "ipython3",
   "version": "3.9.13"
  }
 },
 "nbformat": 4,
 "nbformat_minor": 5
}
